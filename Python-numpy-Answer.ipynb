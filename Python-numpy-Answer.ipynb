{
 "cells": [
  {
   "cell_type": "markdown",
   "id": "d84060c5",
   "metadata": {},
   "source": [
    "Imagine you have registered your User ID (data_science@xyz.com) and set password (123456) with bank and You are trying to login into bank portal.\n",
    "\n",
    "Write python + numpy code to validate user entered id and password. If id or password is wrong then generate 6 digit OTP and validate the OTP. If the wrong OTP is entered, you need to allow user 3 attempts for the same OTP. If all the attempts fails then print max attempts reached try after sometime. Print appropriate messages at every condition to let user know the status."
   ]
  },
  {
   "cell_type": "code",
   "execution_count": 2,
   "id": "3b42d8fe",
   "metadata": {},
   "outputs": [
    {
     "name": "stdout",
     "output_type": "stream",
     "text": [
      "Enter User ID - data_trained@xyz.com\n",
      "Enter Password - 1231323132\n",
      "Wrong Password\n",
      "Forget Password ? Y or N - N\n",
      "Re-enter login details\n",
      "Enter User ID - data_trained@xyz.com\n",
      "Enter Password - 65465464\n",
      "Wrong Password\n",
      "Forget Password ? Y or N - Y\n",
      "Your OTP is -  [585690]\n",
      "Enter OTP 585666\n",
      "Re-enter the OTP\n",
      "Enter OTP 585695\n",
      "Re-enter the OTP\n",
      "Enter OTP 585690\n",
      "Login success\n"
     ]
    }
   ],
   "source": [
    "\n",
    "from numpy.random import randint as ri\n",
    "\n",
    "# Registered user id and password\n",
    "reg_id = 'data_trained@xyz.com'\n",
    "reg_password = 123456\n",
    "\n",
    "##########\n",
    "try:\n",
    "    while True:\n",
    "        u_id = input('Enter User ID - ')\n",
    "        password = int(input('Enter Password - '))\n",
    "        if u_id == reg_id and password == reg_password:\n",
    "            print ('Login Success')\n",
    "            break\n",
    "        else:\n",
    "            print ('Wrong Password')\n",
    "            forgot_password = input('Forget Password ? Y or N - ')\n",
    "            if forgot_password == 'Y':\n",
    "                otp1 = ri(100000, 1000000, 1)\n",
    "                print('Your OTP is - ', otp1)\n",
    "                user_otp = int(input('Enter OTP '))\n",
    "\n",
    "                if otp1 == user_otp:\n",
    "                    print('Login success')\n",
    "                    break\n",
    "                else:\n",
    "                    attempts = 1\n",
    "                    while True: \n",
    "                        if attempts == 3:\n",
    "                            print ('Max attempts reached, Try after sometime')\n",
    "                            break                 \n",
    "                        else:\n",
    "                            attempts += 1\n",
    "                            print ('Re-enter the OTP')\n",
    "                            user_otp = int(input('Enter OTP '))\n",
    "                            if otp1 == user_otp:\n",
    "                                print('Login success')\n",
    "                                success = True\n",
    "                                break\n",
    "                            else:\n",
    "                                continue\n",
    "                    if success:    \n",
    "                        break\n",
    "                    else:\n",
    "                        continue          \n",
    "\n",
    "            else:\n",
    "                print ('Re-enter login details')\n",
    "                continue\n",
    "except:\n",
    "    print ('Please Enter Valid Details')"
   ]
  },
  {
   "cell_type": "code",
   "execution_count": null,
   "id": "7f4e67de",
   "metadata": {},
   "outputs": [],
   "source": []
  }
 ],
 "metadata": {
  "kernelspec": {
   "display_name": "Python 3 (ipykernel)",
   "language": "python",
   "name": "python3"
  },
  "language_info": {
   "codemirror_mode": {
    "name": "ipython",
    "version": 3
   },
   "file_extension": ".py",
   "mimetype": "text/x-python",
   "name": "python",
   "nbconvert_exporter": "python",
   "pygments_lexer": "ipython3",
   "version": "3.10.9"
  }
 },
 "nbformat": 4,
 "nbformat_minor": 5
}
